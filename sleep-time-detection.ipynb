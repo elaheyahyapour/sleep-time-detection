{
 "cells": [
  {
   "cell_type": "markdown",
   "id": "04d2fb4c",
   "metadata": {},
   "source": [
    "# Changing the format of data in label's file from ms to timedate"
   ]
  },
  {
   "cell_type": "code",
   "execution_count": 1,
   "id": "784cd9fa",
   "metadata": {},
   "outputs": [
    {
     "data": {
      "text/html": [
       "        <script type=\"text/javascript\">\n",
       "        window.PlotlyConfig = {MathJaxConfig: 'local'};\n",
       "        if (window.MathJax) {MathJax.Hub.Config({SVG: {font: \"STIX-Web\"}});}\n",
       "        if (typeof require !== 'undefined') {\n",
       "        require.undef(\"plotly\");\n",
       "        requirejs.config({\n",
       "            paths: {\n",
       "                'plotly': ['https://cdn.plot.ly/plotly-latest.min']\n",
       "            }\n",
       "        });\n",
       "        require(['plotly'], function(Plotly) {\n",
       "            window._Plotly = Plotly;\n",
       "        });\n",
       "        }\n",
       "        </script>\n",
       "        "
      ]
     },
     "metadata": {},
     "output_type": "display_data"
    },
    {
     "data": {
      "text/html": [
       "        <script type=\"text/javascript\">\n",
       "        window.PlotlyConfig = {MathJaxConfig: 'local'};\n",
       "        if (window.MathJax) {MathJax.Hub.Config({SVG: {font: \"STIX-Web\"}});}\n",
       "        if (typeof require !== 'undefined') {\n",
       "        require.undef(\"plotly\");\n",
       "        requirejs.config({\n",
       "            paths: {\n",
       "                'plotly': ['https://cdn.plot.ly/plotly-latest.min']\n",
       "            }\n",
       "        });\n",
       "        require(['plotly'], function(Plotly) {\n",
       "            window._Plotly = Plotly;\n",
       "        });\n",
       "        }\n",
       "        </script>\n",
       "        "
      ]
     },
     "metadata": {},
     "output_type": "display_data"
    }
   ],
   "source": [
    "import pandas as pd\n",
    "import numpy as np\n",
    "import datetime\n",
    "import seaborn as sns\n",
    "import matplotlib.pyplot as plt\n",
    "import chart_studio.plotly as py\n",
    "import cufflinks as cf\n",
    "from plotly.offline import download_plotlyjs,init_notebook_mode,plot,iplot\n",
    "init_notebook_mode(connected=True)\n",
    "cf.go_offline()"
   ]
  },
  {
   "cell_type": "code",
   "execution_count": 2,
   "id": "4b45f35d",
   "metadata": {},
   "outputs": [],
   "source": [
    "df= pd.read_csv('labels.csv')"
   ]
  },
  {
   "cell_type": "code",
   "execution_count": 3,
   "id": "1f04938e",
   "metadata": {},
   "outputs": [
    {
     "data": {
      "text/html": [
       "<div>\n",
       "<style scoped>\n",
       "    .dataframe tbody tr th:only-of-type {\n",
       "        vertical-align: middle;\n",
       "    }\n",
       "\n",
       "    .dataframe tbody tr th {\n",
       "        vertical-align: top;\n",
       "    }\n",
       "\n",
       "    .dataframe thead th {\n",
       "        text-align: right;\n",
       "    }\n",
       "</style>\n",
       "<table border=\"1\" class=\"dataframe\">\n",
       "  <thead>\n",
       "    <tr style=\"text-align: right;\">\n",
       "      <th></th>\n",
       "      <th>Unnamed: 0</th>\n",
       "      <th>user</th>\n",
       "      <th>begin</th>\n",
       "      <th>end</th>\n",
       "    </tr>\n",
       "  </thead>\n",
       "  <tbody>\n",
       "    <tr>\n",
       "      <th>0</th>\n",
       "      <td>0</td>\n",
       "      <td>patient_Jonas</td>\n",
       "      <td>1623622759524</td>\n",
       "      <td>1623652279524</td>\n",
       "    </tr>\n",
       "    <tr>\n",
       "      <th>1</th>\n",
       "      <td>1</td>\n",
       "      <td>patient_Jonas</td>\n",
       "      <td>1624406119524</td>\n",
       "      <td>1624432399524</td>\n",
       "    </tr>\n",
       "    <tr>\n",
       "      <th>2</th>\n",
       "      <td>2</td>\n",
       "      <td>patient_Jonas</td>\n",
       "      <td>1623888439524</td>\n",
       "      <td>1623906019524</td>\n",
       "    </tr>\n",
       "    <tr>\n",
       "      <th>3</th>\n",
       "      <td>3</td>\n",
       "      <td>patient_Jonas</td>\n",
       "      <td>1624229359524</td>\n",
       "      <td>1624255819524</td>\n",
       "    </tr>\n",
       "    <tr>\n",
       "      <th>4</th>\n",
       "      <td>4</td>\n",
       "      <td>patient_Jonas</td>\n",
       "      <td>1624314619524</td>\n",
       "      <td>1624347619524</td>\n",
       "    </tr>\n",
       "  </tbody>\n",
       "</table>\n",
       "</div>"
      ],
      "text/plain": [
       "   Unnamed: 0           user          begin            end\n",
       "0           0  patient_Jonas  1623622759524  1623652279524\n",
       "1           1  patient_Jonas  1624406119524  1624432399524\n",
       "2           2  patient_Jonas  1623888439524  1623906019524\n",
       "3           3  patient_Jonas  1624229359524  1624255819524\n",
       "4           4  patient_Jonas  1624314619524  1624347619524"
      ]
     },
     "execution_count": 3,
     "metadata": {},
     "output_type": "execute_result"
    }
   ],
   "source": [
    "df.head()"
   ]
  },
  {
   "cell_type": "code",
   "execution_count": 4,
   "id": "37acba56",
   "metadata": {},
   "outputs": [],
   "source": [
    "dtype_before1 = type(df['begin'])\n",
    "dtype_before1 = type(df['end'])"
   ]
  },
  {
   "cell_type": "code",
   "execution_count": 5,
   "id": "b7c6fe56",
   "metadata": {},
   "outputs": [],
   "source": [
    "beging_list = df['begin'].tolist()\n",
    "end_list = df['end'].tolist()"
   ]
  },
  {
   "cell_type": "code",
   "execution_count": 6,
   "id": "fa6d36c0",
   "metadata": {},
   "outputs": [
    {
     "data": {
      "text/plain": [
       "list"
      ]
     },
     "execution_count": 6,
     "metadata": {},
     "output_type": "execute_result"
    }
   ],
   "source": [
    "type(beging_list)"
   ]
  },
  {
   "cell_type": "code",
   "execution_count": 7,
   "id": "4218518a",
   "metadata": {},
   "outputs": [],
   "source": [
    "# Changing the format from ms to datetime\n",
    "\n",
    "\n",
    "\n",
    "begin_after=[]\n",
    "end_after=[]\n",
    "\n",
    "for x in beging_list:\n",
    "    begin_after.append(\n",
    "    datetime.datetime.fromtimestamp(\n",
    "        int(x)*0.001\n",
    "    ).strftime('%Y-%m-%d %H:%M:%S'))\n",
    "\n",
    "    \n",
    "\n",
    "\n",
    "for y in end_list:\n",
    "    end_after.append(\n",
    "    datetime.datetime.fromtimestamp(\n",
    "        int(y)*0.001\n",
    "    ).strftime('%Y-%m-%d %H:%M:%S'))\n",
    "\n"
   ]
  },
  {
   "cell_type": "code",
   "execution_count": 8,
   "id": "869c3be4",
   "metadata": {},
   "outputs": [
    {
     "name": "stdout",
     "output_type": "stream",
     "text": [
      "['2021-06-14 00:19:19', '2021-06-23 01:55:19', '2021-06-17 02:07:19', '2021-06-21 00:49:19', '2021-06-22 00:30:19', '2021-06-17 23:17:05', '2021-06-10 00:53:05', '2021-06-08 23:23:05', '2021-06-16 23:53:05', '2021-06-09 01:37:05', '2021-06-14 04:00:05', '2021-06-16 20:00:05', '2021-06-13 00:30:05', '2021-06-16 00:00:05', '2021-06-14 22:31:05', '2021-06-06 23:30:05', '2021-06-08 02:07:05', '2021-06-09 05:59:48', '2021-06-09 00:05:48', '2021-06-08 02:29:48', '2021-06-16 23:14:28', '2021-06-21 23:44:35', '2021-06-10 00:40:03', '2021-06-08 01:52:03', '2021-06-09 01:46:03', '2021-06-15 20:06:08', '2021-06-19 05:42:08', '2021-06-19 00:45:07', '2021-06-16 22:54:08', '2021-06-20 00:32:14', '2021-06-20 00:17:07', '2021-06-16 22:48:08', '2021-06-20 02:42:14']\n",
      "['2021-06-14 08:31:19', '2021-06-23 09:13:19', '2021-06-17 07:00:19', '2021-06-21 08:10:19', '2021-06-22 09:40:19', '2021-06-18 06:41:05', '2021-06-10 06:35:05', '2021-06-09 06:41:05', '2021-06-17 06:47:05', '2021-06-09 06:55:05', '2021-06-14 07:01:05', '2021-06-17 07:20:05', '2021-06-13 09:55:05', '2021-06-16 07:30:05', '2021-06-15 07:37:05', '2021-06-07 07:01:05', '2021-06-08 06:49:05', '2021-06-09 09:05:48', '2021-06-09 05:11:48', '2021-06-08 07:41:48', '2021-06-17 06:40:28', '2021-06-22 05:20:35', '2021-06-10 08:28:03', '2021-06-08 09:52:03', '2021-06-09 08:52:03', '2021-06-16 06:12:08', '2021-06-19 08:00:08', '2021-06-19 01:04:22', '2021-06-17 06:30:08', '2021-06-20 07:15:59', '2021-06-20 02:31:59', '2021-06-17 07:00:08', '2021-06-20 07:11:52']\n"
     ]
    }
   ],
   "source": [
    "print(begin_after)\n",
    "print(end_after)"
   ]
  },
  {
   "cell_type": "code",
   "execution_count": 9,
   "id": "2b9867bd",
   "metadata": {},
   "outputs": [],
   "source": [
    "user=df['user']"
   ]
  },
  {
   "cell_type": "code",
   "execution_count": 10,
   "id": "95f53327",
   "metadata": {},
   "outputs": [],
   "source": [
    "d= {'user':user, 'begin':begin_after, 'end':end_after}"
   ]
  },
  {
   "cell_type": "code",
   "execution_count": 11,
   "id": "982c5aba",
   "metadata": {},
   "outputs": [],
   "source": [
    "df_changed_format= pd.DataFrame(d, columns=['user', 'begin','end'])"
   ]
  },
  {
   "cell_type": "code",
   "execution_count": 12,
   "id": "e5ca02cc",
   "metadata": {},
   "outputs": [
    {
     "data": {
      "text/html": [
       "<div>\n",
       "<style scoped>\n",
       "    .dataframe tbody tr th:only-of-type {\n",
       "        vertical-align: middle;\n",
       "    }\n",
       "\n",
       "    .dataframe tbody tr th {\n",
       "        vertical-align: top;\n",
       "    }\n",
       "\n",
       "    .dataframe thead th {\n",
       "        text-align: right;\n",
       "    }\n",
       "</style>\n",
       "<table border=\"1\" class=\"dataframe\">\n",
       "  <thead>\n",
       "    <tr style=\"text-align: right;\">\n",
       "      <th></th>\n",
       "      <th>user</th>\n",
       "      <th>begin</th>\n",
       "      <th>end</th>\n",
       "    </tr>\n",
       "  </thead>\n",
       "  <tbody>\n",
       "    <tr>\n",
       "      <th>0</th>\n",
       "      <td>patient_Jonas</td>\n",
       "      <td>2021-06-14 00:19:19</td>\n",
       "      <td>2021-06-14 08:31:19</td>\n",
       "    </tr>\n",
       "    <tr>\n",
       "      <th>1</th>\n",
       "      <td>patient_Jonas</td>\n",
       "      <td>2021-06-23 01:55:19</td>\n",
       "      <td>2021-06-23 09:13:19</td>\n",
       "    </tr>\n",
       "    <tr>\n",
       "      <th>2</th>\n",
       "      <td>patient_Jonas</td>\n",
       "      <td>2021-06-17 02:07:19</td>\n",
       "      <td>2021-06-17 07:00:19</td>\n",
       "    </tr>\n",
       "    <tr>\n",
       "      <th>3</th>\n",
       "      <td>patient_Jonas</td>\n",
       "      <td>2021-06-21 00:49:19</td>\n",
       "      <td>2021-06-21 08:10:19</td>\n",
       "    </tr>\n",
       "    <tr>\n",
       "      <th>4</th>\n",
       "      <td>patient_Jonas</td>\n",
       "      <td>2021-06-22 00:30:19</td>\n",
       "      <td>2021-06-22 09:40:19</td>\n",
       "    </tr>\n",
       "  </tbody>\n",
       "</table>\n",
       "</div>"
      ],
      "text/plain": [
       "            user                begin                  end\n",
       "0  patient_Jonas  2021-06-14 00:19:19  2021-06-14 08:31:19\n",
       "1  patient_Jonas  2021-06-23 01:55:19  2021-06-23 09:13:19\n",
       "2  patient_Jonas  2021-06-17 02:07:19  2021-06-17 07:00:19\n",
       "3  patient_Jonas  2021-06-21 00:49:19  2021-06-21 08:10:19\n",
       "4  patient_Jonas  2021-06-22 00:30:19  2021-06-22 09:40:19"
      ]
     },
     "execution_count": 12,
     "metadata": {},
     "output_type": "execute_result"
    }
   ],
   "source": [
    "df_changed_format.head()"
   ]
  },
  {
   "cell_type": "code",
   "execution_count": 13,
   "id": "006b9889",
   "metadata": {},
   "outputs": [],
   "source": [
    "df_changed_format.to_csv(r'Changed_format_labels1.csv')"
   ]
  },
  {
   "cell_type": "code",
   "execution_count": 14,
   "id": "c3770fbe",
   "metadata": {},
   "outputs": [],
   "source": [
    "df2= pd.read_csv('Changed_format_labels1.csv')"
   ]
  },
  {
   "cell_type": "code",
   "execution_count": 15,
   "id": "69eafe7c",
   "metadata": {},
   "outputs": [
    {
     "data": {
      "text/html": [
       "<div>\n",
       "<style scoped>\n",
       "    .dataframe tbody tr th:only-of-type {\n",
       "        vertical-align: middle;\n",
       "    }\n",
       "\n",
       "    .dataframe tbody tr th {\n",
       "        vertical-align: top;\n",
       "    }\n",
       "\n",
       "    .dataframe thead th {\n",
       "        text-align: right;\n",
       "    }\n",
       "</style>\n",
       "<table border=\"1\" class=\"dataframe\">\n",
       "  <thead>\n",
       "    <tr style=\"text-align: right;\">\n",
       "      <th></th>\n",
       "      <th>Unnamed: 0</th>\n",
       "      <th>user</th>\n",
       "      <th>begin</th>\n",
       "      <th>end</th>\n",
       "    </tr>\n",
       "  </thead>\n",
       "  <tbody>\n",
       "    <tr>\n",
       "      <th>0</th>\n",
       "      <td>0</td>\n",
       "      <td>patient_Jonas</td>\n",
       "      <td>2021-06-14 00:19:19</td>\n",
       "      <td>2021-06-14 08:31:19</td>\n",
       "    </tr>\n",
       "    <tr>\n",
       "      <th>1</th>\n",
       "      <td>1</td>\n",
       "      <td>patient_Jonas</td>\n",
       "      <td>2021-06-23 01:55:19</td>\n",
       "      <td>2021-06-23 09:13:19</td>\n",
       "    </tr>\n",
       "    <tr>\n",
       "      <th>2</th>\n",
       "      <td>2</td>\n",
       "      <td>patient_Jonas</td>\n",
       "      <td>2021-06-17 02:07:19</td>\n",
       "      <td>2021-06-17 07:00:19</td>\n",
       "    </tr>\n",
       "    <tr>\n",
       "      <th>3</th>\n",
       "      <td>3</td>\n",
       "      <td>patient_Jonas</td>\n",
       "      <td>2021-06-21 00:49:19</td>\n",
       "      <td>2021-06-21 08:10:19</td>\n",
       "    </tr>\n",
       "    <tr>\n",
       "      <th>4</th>\n",
       "      <td>4</td>\n",
       "      <td>patient_Jonas</td>\n",
       "      <td>2021-06-22 00:30:19</td>\n",
       "      <td>2021-06-22 09:40:19</td>\n",
       "    </tr>\n",
       "  </tbody>\n",
       "</table>\n",
       "</div>"
      ],
      "text/plain": [
       "   Unnamed: 0           user                begin                  end\n",
       "0           0  patient_Jonas  2021-06-14 00:19:19  2021-06-14 08:31:19\n",
       "1           1  patient_Jonas  2021-06-23 01:55:19  2021-06-23 09:13:19\n",
       "2           2  patient_Jonas  2021-06-17 02:07:19  2021-06-17 07:00:19\n",
       "3           3  patient_Jonas  2021-06-21 00:49:19  2021-06-21 08:10:19\n",
       "4           4  patient_Jonas  2021-06-22 00:30:19  2021-06-22 09:40:19"
      ]
     },
     "execution_count": 15,
     "metadata": {},
     "output_type": "execute_result"
    }
   ],
   "source": [
    "df2.head()"
   ]
  },
  {
   "cell_type": "markdown",
   "id": "918639eb",
   "metadata": {},
   "source": [
    "     "
   ]
  },
  {
   "cell_type": "markdown",
   "id": "d7653a23",
   "metadata": {},
   "source": [
    "      "
   ]
  },
  {
   "cell_type": "markdown",
   "id": "5003f3bf",
   "metadata": {},
   "source": [
    "       "
   ]
  },
  {
   "cell_type": "markdown",
   "id": "3eee8492",
   "metadata": {},
   "source": [
    "# Labeling for all data"
   ]
  },
  {
   "cell_type": "code",
   "execution_count": 21,
   "id": "a22461bc",
   "metadata": {},
   "outputs": [],
   "source": [
    "import numpy as np\n",
    "import os\n",
    "import warnings\n",
    "warnings.filterwarnings('ignore') \n",
    "import shutil"
   ]
  },
  {
   "cell_type": "code",
   "execution_count": 17,
   "id": "7ee1d834",
   "metadata": {},
   "outputs": [],
   "source": [
    "# Aim: building a table to recognize the amount of data recorded of each feature for each subject \n",
    "df_transfer_label=pd.read_csv('Changed_format_labels.csv')\n",
    "\n",
    "f=pd.read_csv('features.csv')\n",
    "features_name=list(f['features'])\n",
    "\n",
    "n=pd.read_csv('names.csv')\n",
    "subjects_name=list(n['names'])"
   ]
  },
  {
   "cell_type": "code",
   "execution_count": 18,
   "id": "c24425a0",
   "metadata": {},
   "outputs": [],
   "source": [
    "# Building the table\n",
    "\n",
    "init=np.zeros((len(subjects_name),len(features_name)))\n",
    "summary = pd.DataFrame (init, columns = features_name,index=subjects_name)\n",
    "\n",
    "\n",
    "\n",
    "# filling the table with the number of recorded data while user was sleeping\n",
    "\n",
    "# finding the during of sleep time\n",
    "directory='data'\n",
    "for i in os.listdir(directory):\n",
    "    if i[-3:]=='csv':\n",
    "        df=pd.read_csv(directory+'/'+i)\n",
    "        name=i.split('_')[0]\n",
    "        feature=i.split('_')[1]\n",
    "        \n",
    "        begin_time=list(df_transfer_label['begin'][(df_transfer_label['user']==name)])\n",
    "        end_time=list(df_transfer_label['end'][(df_transfer_label['user']==name)])\n",
    "        \n",
    "        # assumption of datetime format: for having easier the procedure \n",
    "        # and the same format like changed format datetime\n",
    "        split_time=[]\n",
    "        for x in df['timestamp']:\n",
    "            split_time.append(x.split()[0] +' '+ x.split()[1][:8])\n",
    "            \n",
    "        df['time_new']=split_time\n",
    "        \n",
    "        \n",
    "        # Adding a label if user was sleeping or not ## Sleep=1 Up=0\n",
    "        df['Label']=np.zeros((len(df),1))\n",
    "        for i in range(len(begin_time)):\n",
    "            mask=(df['time_new'] > begin_time[i])&(df['time_new'] <= end_time[i])\n",
    "            df['Label'][mask]=1\n",
    "        \n",
    "        df.to_csv('labeled_'+name+'_'+feature+'_'+'data.csv')\n",
    "        \n",
    "        summary[feature][name]=sum(df['Label']==1)\n",
    "        \n",
    "        \n",
    "        "
   ]
  },
  {
   "cell_type": "code",
   "execution_count": 19,
   "id": "d2add10c",
   "metadata": {},
   "outputs": [
    {
     "data": {
      "text/html": [
       "<div>\n",
       "<style scoped>\n",
       "    .dataframe tbody tr th:only-of-type {\n",
       "        vertical-align: middle;\n",
       "    }\n",
       "\n",
       "    .dataframe tbody tr th {\n",
       "        vertical-align: top;\n",
       "    }\n",
       "\n",
       "    .dataframe thead th {\n",
       "        text-align: right;\n",
       "    }\n",
       "</style>\n",
       "<table border=\"1\" class=\"dataframe\">\n",
       "  <thead>\n",
       "    <tr style=\"text-align: right;\">\n",
       "      <th></th>\n",
       "      <th>light</th>\n",
       "      <th>noise</th>\n",
       "      <th>proximity</th>\n",
       "      <th>screen</th>\n",
       "      <th>step</th>\n",
       "      <th>number of sleep</th>\n",
       "    </tr>\n",
       "  </thead>\n",
       "  <tbody>\n",
       "    <tr>\n",
       "      <th>Jonas</th>\n",
       "      <td>56043.0</td>\n",
       "      <td>2086.0</td>\n",
       "      <td>3.0</td>\n",
       "      <td>4.0</td>\n",
       "      <td>0.0</td>\n",
       "      <td>5</td>\n",
       "    </tr>\n",
       "    <tr>\n",
       "      <th>svhoecke</th>\n",
       "      <td>49028.0</td>\n",
       "      <td>0.0</td>\n",
       "      <td>0.0</td>\n",
       "      <td>6.0</td>\n",
       "      <td>17.0</td>\n",
       "      <td>4</td>\n",
       "    </tr>\n",
       "    <tr>\n",
       "      <th>fongenae</th>\n",
       "      <td>142279.0</td>\n",
       "      <td>0.0</td>\n",
       "      <td>94.0</td>\n",
       "      <td>93.0</td>\n",
       "      <td>0.0</td>\n",
       "      <td>8</td>\n",
       "    </tr>\n",
       "    <tr>\n",
       "      <th>Emiel</th>\n",
       "      <td>0.0</td>\n",
       "      <td>14.0</td>\n",
       "      <td>0.0</td>\n",
       "      <td>0.0</td>\n",
       "      <td>0.0</td>\n",
       "      <td>3</td>\n",
       "    </tr>\n",
       "    <tr>\n",
       "      <th>Nicolas</th>\n",
       "      <td>26459.0</td>\n",
       "      <td>0.0</td>\n",
       "      <td>4.0</td>\n",
       "      <td>6.0</td>\n",
       "      <td>0.0</td>\n",
       "      <td>1</td>\n",
       "    </tr>\n",
       "    <tr>\n",
       "      <th>Diego</th>\n",
       "      <td>19934.0</td>\n",
       "      <td>0.0</td>\n",
       "      <td>2.0</td>\n",
       "      <td>0.0</td>\n",
       "      <td>0.0</td>\n",
       "      <td>1</td>\n",
       "    </tr>\n",
       "    <tr>\n",
       "      <th>Jessica</th>\n",
       "      <td>0.0</td>\n",
       "      <td>12351.0</td>\n",
       "      <td>7.0</td>\n",
       "      <td>0.0</td>\n",
       "      <td>0.0</td>\n",
       "      <td>3</td>\n",
       "    </tr>\n",
       "    <tr>\n",
       "      <th>Celine</th>\n",
       "      <td>99369.0</td>\n",
       "      <td>0.0</td>\n",
       "      <td>1.0</td>\n",
       "      <td>1.0</td>\n",
       "      <td>0.0</td>\n",
       "      <td>8</td>\n",
       "    </tr>\n",
       "  </tbody>\n",
       "</table>\n",
       "</div>"
      ],
      "text/plain": [
       "             light    noise  proximity  screen  step  number of sleep\n",
       "Jonas      56043.0   2086.0        3.0     4.0   0.0                5\n",
       "svhoecke   49028.0      0.0        0.0     6.0  17.0                4\n",
       "fongenae  142279.0      0.0       94.0    93.0   0.0                8\n",
       "Emiel          0.0     14.0        0.0     0.0   0.0                3\n",
       "Nicolas    26459.0      0.0        4.0     6.0   0.0                1\n",
       "Diego      19934.0      0.0        2.0     0.0   0.0                1\n",
       "Jessica        0.0  12351.0        7.0     0.0   0.0                3\n",
       "Celine     99369.0      0.0        1.0     1.0   0.0                8"
      ]
     },
     "execution_count": 19,
     "metadata": {},
     "output_type": "execute_result"
    }
   ],
   "source": [
    "number_sleep= df_transfer_label['user'].value_counts()\n",
    "summary['number of sleep']=number_sleep\n",
    "\n",
    "summary"
   ]
  },
  {
   "cell_type": "markdown",
   "id": "0ce32f0e",
   "metadata": {},
   "source": [
    "   "
   ]
  },
  {
   "cell_type": "markdown",
   "id": "bb85da8f",
   "metadata": {},
   "source": [
    "      "
   ]
  },
  {
   "cell_type": "markdown",
   "id": "0ede6bcb",
   "metadata": {},
   "source": [
    "      "
   ]
  },
  {
   "cell_type": "markdown",
   "id": "354600c3",
   "metadata": {},
   "source": [
    "# Survay on features extracted by table"
   ]
  },
  {
   "cell_type": "markdown",
   "id": "e2822233",
   "metadata": {},
   "source": [
    "# light"
   ]
  },
  {
   "cell_type": "code",
   "execution_count": 30,
   "id": "5e1dd03d",
   "metadata": {},
   "outputs": [
    {
     "ename": "FileNotFoundError",
     "evalue": "[Errno 2] No such file or directory: 'labeled_data/labeled_Jonas_light_data.csv'",
     "output_type": "error",
     "traceback": [
      "\u001b[0;31m---------------------------------------------------------------------------\u001b[0m",
      "\u001b[0;31mFileNotFoundError\u001b[0m                         Traceback (most recent call last)",
      "\u001b[0;32m<ipython-input-30-b3f95ffe72ce>\u001b[0m in \u001b[0;36m<module>\u001b[0;34m\u001b[0m\n\u001b[1;32m      1\u001b[0m \u001b[0;31m# light- calculation  of mean and std\u001b[0m\u001b[0;34m\u001b[0m\u001b[0;34m\u001b[0m\u001b[0;34m\u001b[0m\u001b[0m\n\u001b[1;32m      2\u001b[0m \u001b[0;34m\u001b[0m\u001b[0m\n\u001b[0;32m----> 3\u001b[0;31m \u001b[0mdf1\u001b[0m\u001b[0;34m=\u001b[0m\u001b[0mpd\u001b[0m\u001b[0;34m.\u001b[0m\u001b[0mread_csv\u001b[0m\u001b[0;34m(\u001b[0m\u001b[0;34m'labeled_data/labeled_Jonas_light_data.csv'\u001b[0m\u001b[0;34m)\u001b[0m\u001b[0;34m\u001b[0m\u001b[0;34m\u001b[0m\u001b[0m\n\u001b[0m\u001b[1;32m      4\u001b[0m \u001b[0mdf2\u001b[0m\u001b[0;34m=\u001b[0m\u001b[0mpd\u001b[0m\u001b[0;34m.\u001b[0m\u001b[0mread_csv\u001b[0m\u001b[0;34m(\u001b[0m\u001b[0;34m'labeled_data/labeled_fongenae_light_data.csv'\u001b[0m\u001b[0;34m)\u001b[0m\u001b[0;34m\u001b[0m\u001b[0;34m\u001b[0m\u001b[0m\n\u001b[1;32m      5\u001b[0m \u001b[0mdf3\u001b[0m\u001b[0;34m=\u001b[0m\u001b[0mpd\u001b[0m\u001b[0;34m.\u001b[0m\u001b[0mread_csv\u001b[0m\u001b[0;34m(\u001b[0m\u001b[0;34m'labeled_data/labeled_Celine_light_data.csv'\u001b[0m\u001b[0;34m)\u001b[0m\u001b[0;34m\u001b[0m\u001b[0;34m\u001b[0m\u001b[0m\n",
      "\u001b[0;32m~/opt/miniconda3/envs/tf/lib/python3.7/site-packages/pandas/io/parsers.py\u001b[0m in \u001b[0;36mread_csv\u001b[0;34m(filepath_or_buffer, sep, delimiter, header, names, index_col, usecols, squeeze, prefix, mangle_dupe_cols, dtype, engine, converters, true_values, false_values, skipinitialspace, skiprows, skipfooter, nrows, na_values, keep_default_na, na_filter, verbose, skip_blank_lines, parse_dates, infer_datetime_format, keep_date_col, date_parser, dayfirst, cache_dates, iterator, chunksize, compression, thousands, decimal, lineterminator, quotechar, quoting, doublequote, escapechar, comment, encoding, dialect, error_bad_lines, warn_bad_lines, delim_whitespace, low_memory, memory_map, float_precision, storage_options)\u001b[0m\n\u001b[1;32m    608\u001b[0m     \u001b[0mkwds\u001b[0m\u001b[0;34m.\u001b[0m\u001b[0mupdate\u001b[0m\u001b[0;34m(\u001b[0m\u001b[0mkwds_defaults\u001b[0m\u001b[0;34m)\u001b[0m\u001b[0;34m\u001b[0m\u001b[0;34m\u001b[0m\u001b[0m\n\u001b[1;32m    609\u001b[0m \u001b[0;34m\u001b[0m\u001b[0m\n\u001b[0;32m--> 610\u001b[0;31m     \u001b[0;32mreturn\u001b[0m \u001b[0m_read\u001b[0m\u001b[0;34m(\u001b[0m\u001b[0mfilepath_or_buffer\u001b[0m\u001b[0;34m,\u001b[0m \u001b[0mkwds\u001b[0m\u001b[0;34m)\u001b[0m\u001b[0;34m\u001b[0m\u001b[0;34m\u001b[0m\u001b[0m\n\u001b[0m\u001b[1;32m    611\u001b[0m \u001b[0;34m\u001b[0m\u001b[0m\n\u001b[1;32m    612\u001b[0m \u001b[0;34m\u001b[0m\u001b[0m\n",
      "\u001b[0;32m~/opt/miniconda3/envs/tf/lib/python3.7/site-packages/pandas/io/parsers.py\u001b[0m in \u001b[0;36m_read\u001b[0;34m(filepath_or_buffer, kwds)\u001b[0m\n\u001b[1;32m    460\u001b[0m \u001b[0;34m\u001b[0m\u001b[0m\n\u001b[1;32m    461\u001b[0m     \u001b[0;31m# Create the parser.\u001b[0m\u001b[0;34m\u001b[0m\u001b[0;34m\u001b[0m\u001b[0;34m\u001b[0m\u001b[0m\n\u001b[0;32m--> 462\u001b[0;31m     \u001b[0mparser\u001b[0m \u001b[0;34m=\u001b[0m \u001b[0mTextFileReader\u001b[0m\u001b[0;34m(\u001b[0m\u001b[0mfilepath_or_buffer\u001b[0m\u001b[0;34m,\u001b[0m \u001b[0;34m**\u001b[0m\u001b[0mkwds\u001b[0m\u001b[0;34m)\u001b[0m\u001b[0;34m\u001b[0m\u001b[0;34m\u001b[0m\u001b[0m\n\u001b[0m\u001b[1;32m    463\u001b[0m \u001b[0;34m\u001b[0m\u001b[0m\n\u001b[1;32m    464\u001b[0m     \u001b[0;32mif\u001b[0m \u001b[0mchunksize\u001b[0m \u001b[0;32mor\u001b[0m \u001b[0miterator\u001b[0m\u001b[0;34m:\u001b[0m\u001b[0;34m\u001b[0m\u001b[0;34m\u001b[0m\u001b[0m\n",
      "\u001b[0;32m~/opt/miniconda3/envs/tf/lib/python3.7/site-packages/pandas/io/parsers.py\u001b[0m in \u001b[0;36m__init__\u001b[0;34m(self, f, engine, **kwds)\u001b[0m\n\u001b[1;32m    817\u001b[0m             \u001b[0mself\u001b[0m\u001b[0;34m.\u001b[0m\u001b[0moptions\u001b[0m\u001b[0;34m[\u001b[0m\u001b[0;34m\"has_index_names\"\u001b[0m\u001b[0;34m]\u001b[0m \u001b[0;34m=\u001b[0m \u001b[0mkwds\u001b[0m\u001b[0;34m[\u001b[0m\u001b[0;34m\"has_index_names\"\u001b[0m\u001b[0;34m]\u001b[0m\u001b[0;34m\u001b[0m\u001b[0;34m\u001b[0m\u001b[0m\n\u001b[1;32m    818\u001b[0m \u001b[0;34m\u001b[0m\u001b[0m\n\u001b[0;32m--> 819\u001b[0;31m         \u001b[0mself\u001b[0m\u001b[0;34m.\u001b[0m\u001b[0m_engine\u001b[0m \u001b[0;34m=\u001b[0m \u001b[0mself\u001b[0m\u001b[0;34m.\u001b[0m\u001b[0m_make_engine\u001b[0m\u001b[0;34m(\u001b[0m\u001b[0mself\u001b[0m\u001b[0;34m.\u001b[0m\u001b[0mengine\u001b[0m\u001b[0;34m)\u001b[0m\u001b[0;34m\u001b[0m\u001b[0;34m\u001b[0m\u001b[0m\n\u001b[0m\u001b[1;32m    820\u001b[0m \u001b[0;34m\u001b[0m\u001b[0m\n\u001b[1;32m    821\u001b[0m     \u001b[0;32mdef\u001b[0m \u001b[0mclose\u001b[0m\u001b[0;34m(\u001b[0m\u001b[0mself\u001b[0m\u001b[0;34m)\u001b[0m\u001b[0;34m:\u001b[0m\u001b[0;34m\u001b[0m\u001b[0;34m\u001b[0m\u001b[0m\n",
      "\u001b[0;32m~/opt/miniconda3/envs/tf/lib/python3.7/site-packages/pandas/io/parsers.py\u001b[0m in \u001b[0;36m_make_engine\u001b[0;34m(self, engine)\u001b[0m\n\u001b[1;32m   1048\u001b[0m             )\n\u001b[1;32m   1049\u001b[0m         \u001b[0;31m# error: Too many arguments for \"ParserBase\"\u001b[0m\u001b[0;34m\u001b[0m\u001b[0;34m\u001b[0m\u001b[0;34m\u001b[0m\u001b[0m\n\u001b[0;32m-> 1050\u001b[0;31m         \u001b[0;32mreturn\u001b[0m \u001b[0mmapping\u001b[0m\u001b[0;34m[\u001b[0m\u001b[0mengine\u001b[0m\u001b[0;34m]\u001b[0m\u001b[0;34m(\u001b[0m\u001b[0mself\u001b[0m\u001b[0;34m.\u001b[0m\u001b[0mf\u001b[0m\u001b[0;34m,\u001b[0m \u001b[0;34m**\u001b[0m\u001b[0mself\u001b[0m\u001b[0;34m.\u001b[0m\u001b[0moptions\u001b[0m\u001b[0;34m)\u001b[0m  \u001b[0;31m# type: ignore[call-arg]\u001b[0m\u001b[0;34m\u001b[0m\u001b[0;34m\u001b[0m\u001b[0m\n\u001b[0m\u001b[1;32m   1051\u001b[0m \u001b[0;34m\u001b[0m\u001b[0m\n\u001b[1;32m   1052\u001b[0m     \u001b[0;32mdef\u001b[0m \u001b[0m_failover_to_python\u001b[0m\u001b[0;34m(\u001b[0m\u001b[0mself\u001b[0m\u001b[0;34m)\u001b[0m\u001b[0;34m:\u001b[0m\u001b[0;34m\u001b[0m\u001b[0;34m\u001b[0m\u001b[0m\n",
      "\u001b[0;32m~/opt/miniconda3/envs/tf/lib/python3.7/site-packages/pandas/io/parsers.py\u001b[0m in \u001b[0;36m__init__\u001b[0;34m(self, src, **kwds)\u001b[0m\n\u001b[1;32m   1865\u001b[0m \u001b[0;34m\u001b[0m\u001b[0m\n\u001b[1;32m   1866\u001b[0m         \u001b[0;31m# open handles\u001b[0m\u001b[0;34m\u001b[0m\u001b[0;34m\u001b[0m\u001b[0;34m\u001b[0m\u001b[0m\n\u001b[0;32m-> 1867\u001b[0;31m         \u001b[0mself\u001b[0m\u001b[0;34m.\u001b[0m\u001b[0m_open_handles\u001b[0m\u001b[0;34m(\u001b[0m\u001b[0msrc\u001b[0m\u001b[0;34m,\u001b[0m \u001b[0mkwds\u001b[0m\u001b[0;34m)\u001b[0m\u001b[0;34m\u001b[0m\u001b[0;34m\u001b[0m\u001b[0m\n\u001b[0m\u001b[1;32m   1868\u001b[0m         \u001b[0;32massert\u001b[0m \u001b[0mself\u001b[0m\u001b[0;34m.\u001b[0m\u001b[0mhandles\u001b[0m \u001b[0;32mis\u001b[0m \u001b[0;32mnot\u001b[0m \u001b[0;32mNone\u001b[0m\u001b[0;34m\u001b[0m\u001b[0;34m\u001b[0m\u001b[0m\n\u001b[1;32m   1869\u001b[0m         \u001b[0;32mfor\u001b[0m \u001b[0mkey\u001b[0m \u001b[0;32min\u001b[0m \u001b[0;34m(\u001b[0m\u001b[0;34m\"storage_options\"\u001b[0m\u001b[0;34m,\u001b[0m \u001b[0;34m\"encoding\"\u001b[0m\u001b[0;34m,\u001b[0m \u001b[0;34m\"memory_map\"\u001b[0m\u001b[0;34m,\u001b[0m \u001b[0;34m\"compression\"\u001b[0m\u001b[0;34m)\u001b[0m\u001b[0;34m:\u001b[0m\u001b[0;34m\u001b[0m\u001b[0;34m\u001b[0m\u001b[0m\n",
      "\u001b[0;32m~/opt/miniconda3/envs/tf/lib/python3.7/site-packages/pandas/io/parsers.py\u001b[0m in \u001b[0;36m_open_handles\u001b[0;34m(self, src, kwds)\u001b[0m\n\u001b[1;32m   1366\u001b[0m             \u001b[0mcompression\u001b[0m\u001b[0;34m=\u001b[0m\u001b[0mkwds\u001b[0m\u001b[0;34m.\u001b[0m\u001b[0mget\u001b[0m\u001b[0;34m(\u001b[0m\u001b[0;34m\"compression\"\u001b[0m\u001b[0;34m,\u001b[0m \u001b[0;32mNone\u001b[0m\u001b[0;34m)\u001b[0m\u001b[0;34m,\u001b[0m\u001b[0;34m\u001b[0m\u001b[0;34m\u001b[0m\u001b[0m\n\u001b[1;32m   1367\u001b[0m             \u001b[0mmemory_map\u001b[0m\u001b[0;34m=\u001b[0m\u001b[0mkwds\u001b[0m\u001b[0;34m.\u001b[0m\u001b[0mget\u001b[0m\u001b[0;34m(\u001b[0m\u001b[0;34m\"memory_map\"\u001b[0m\u001b[0;34m,\u001b[0m \u001b[0;32mFalse\u001b[0m\u001b[0;34m)\u001b[0m\u001b[0;34m,\u001b[0m\u001b[0;34m\u001b[0m\u001b[0;34m\u001b[0m\u001b[0m\n\u001b[0;32m-> 1368\u001b[0;31m             \u001b[0mstorage_options\u001b[0m\u001b[0;34m=\u001b[0m\u001b[0mkwds\u001b[0m\u001b[0;34m.\u001b[0m\u001b[0mget\u001b[0m\u001b[0;34m(\u001b[0m\u001b[0;34m\"storage_options\"\u001b[0m\u001b[0;34m,\u001b[0m \u001b[0;32mNone\u001b[0m\u001b[0;34m)\u001b[0m\u001b[0;34m,\u001b[0m\u001b[0;34m\u001b[0m\u001b[0;34m\u001b[0m\u001b[0m\n\u001b[0m\u001b[1;32m   1369\u001b[0m         )\n\u001b[1;32m   1370\u001b[0m \u001b[0;34m\u001b[0m\u001b[0m\n",
      "\u001b[0;32m~/opt/miniconda3/envs/tf/lib/python3.7/site-packages/pandas/io/common.py\u001b[0m in \u001b[0;36mget_handle\u001b[0;34m(path_or_buf, mode, encoding, compression, memory_map, is_text, errors, storage_options)\u001b[0m\n\u001b[1;32m    645\u001b[0m                 \u001b[0mencoding\u001b[0m\u001b[0;34m=\u001b[0m\u001b[0mioargs\u001b[0m\u001b[0;34m.\u001b[0m\u001b[0mencoding\u001b[0m\u001b[0;34m,\u001b[0m\u001b[0;34m\u001b[0m\u001b[0;34m\u001b[0m\u001b[0m\n\u001b[1;32m    646\u001b[0m                 \u001b[0merrors\u001b[0m\u001b[0;34m=\u001b[0m\u001b[0merrors\u001b[0m\u001b[0;34m,\u001b[0m\u001b[0;34m\u001b[0m\u001b[0;34m\u001b[0m\u001b[0m\n\u001b[0;32m--> 647\u001b[0;31m                 \u001b[0mnewline\u001b[0m\u001b[0;34m=\u001b[0m\u001b[0;34m\"\"\u001b[0m\u001b[0;34m,\u001b[0m\u001b[0;34m\u001b[0m\u001b[0;34m\u001b[0m\u001b[0m\n\u001b[0m\u001b[1;32m    648\u001b[0m             )\n\u001b[1;32m    649\u001b[0m         \u001b[0;32melse\u001b[0m\u001b[0;34m:\u001b[0m\u001b[0;34m\u001b[0m\u001b[0;34m\u001b[0m\u001b[0m\n",
      "\u001b[0;31mFileNotFoundError\u001b[0m: [Errno 2] No such file or directory: 'labeled_data/labeled_Jonas_light_data.csv'"
     ]
    }
   ],
   "source": [
    "# light- calculation  of mean and std \n",
    "\n",
    "df1=pd.read_csv('labeled_data/labeled_Jonas_light_data.csv')\n",
    "df2=pd.read_csv('labeled_data/labeled_fongenae_light_data.csv')\n",
    "df3=pd.read_csv('labeled_data/labeled_Celine_light_data.csv')\n",
    "df4=pd.read_csv('labeled_data/labeled_Diego_light_data.csv')\n",
    "df5=pd.read_csv('labeled_data/labeled_Nicolas_light_data.csv')\n",
    "df6=pd.read_csv('labeled_data/labeled_svhoecke_light_data.csv')\n",
    "df=pd.concat([df1,df2,df3,df4,df5,df6])\n",
    "\n",
    "\n",
    "init=np.zeros((2,2))\n",
    "init[0,0]= np.mean(df['lux'][(df['Label']==1)])\n",
    "init[0,1]= np.mean(df['lux'][(df['Label']==0)])\n",
    "\n",
    "init[1,0]= np.std(df['lux'][(df['Label']==1)])\n",
    "init[1,1]= np.std(df['lux'][(df['Label']==0)])\n",
    "\n",
    "\n",
    "summary_table=pd.DataFrame(init, columns=['sleep','up'], index=['mean','std'])\n",
    "summary_table"
   ]
  },
  {
   "cell_type": "code",
   "execution_count": null,
   "id": "00536941",
   "metadata": {},
   "outputs": [],
   "source": [
    "sns.displot(df,x='lux',kind=\"kde\",hue='Label',palette='magma')"
   ]
  },
  {
   "cell_type": "markdown",
   "id": "7fcf9b33",
   "metadata": {},
   "source": [
    "# noise"
   ]
  },
  {
   "cell_type": "code",
   "execution_count": null,
   "id": "a73f090b",
   "metadata": {},
   "outputs": [],
   "source": [
    "df=pd.read_csv('labeled_data/labeled_Jonas_noise_data.csv')\n",
    "\n",
    "\n",
    "\n",
    "init1=np.zeros((2,2))\n",
    "init1[0,0]=np.mean(df['frequency'][(df['Label']==1)])\n",
    "init1[0,1]=np.mean(df['frequency'][(df['Label']==0)])\n",
    "\n",
    "init1[1,0]=np.std(df['frequency'][(df['Label']==1)])\n",
    "init1[1,1]=np.std(df['frequency'][(df['Label']==0)])\n",
    "summary_table1 = pd.DataFrame (init1, columns = ['sleep','sp'],index=['mean','std'])\n",
    "\n",
    "\n",
    "\n",
    "init2=np.zeros((2,2))\n",
    "init2[0,0]=np.mean(df['amplitude'][(df['Label']==1)])\n",
    "init2[0,1]=np.mean(df['amplitude'][(df['Label']==0)])\n",
    "init2[1,0]=np.std(df['amplitude'][(df['Label']==1)])\n",
    "init2[1,1]=np.std(df['amplitude'][(df['Label']==0)])\n",
    "summary_table2 = pd.DataFrame (init2, columns = ['sleep','up'],index=['mean','std'])\n"
   ]
  },
  {
   "cell_type": "markdown",
   "id": "ee79c451",
   "metadata": {},
   "source": [
    "frequency"
   ]
  },
  {
   "cell_type": "code",
   "execution_count": null,
   "id": "3a5baa31",
   "metadata": {},
   "outputs": [],
   "source": [
    "summary_table1"
   ]
  },
  {
   "cell_type": "markdown",
   "id": "bbb551b7",
   "metadata": {},
   "source": [
    "amplitude"
   ]
  },
  {
   "cell_type": "code",
   "execution_count": null,
   "id": "72c9eb93",
   "metadata": {},
   "outputs": [],
   "source": [
    "summary_table2"
   ]
  },
  {
   "cell_type": "code",
   "execution_count": null,
   "id": "f52a227c",
   "metadata": {},
   "outputs": [],
   "source": [
    "\n",
    "sns.scatterplot(x='frequency',y='amplitude',data=df,hue='Label',palette='magma',\n",
    "           markers=['o','v'])"
   ]
  },
  {
   "cell_type": "code",
   "execution_count": null,
   "id": "be5f05a1",
   "metadata": {},
   "outputs": [],
   "source": [
    "sns.displot(df,x='frequency',kind=\"kde\",hue='Label',palette='magma')"
   ]
  },
  {
   "cell_type": "markdown",
   "id": "d4d1c37c",
   "metadata": {},
   "source": [
    "      "
   ]
  },
  {
   "cell_type": "code",
   "execution_count": null,
   "id": "1040a9c9",
   "metadata": {
    "scrolled": true
   },
   "outputs": [],
   "source": [
    "df_counts = (df.groupby(['Label'])['amplitude']\n",
    "                     .value_counts(normalize=True)\n",
    "                     .rename('percentage')\n",
    "                     .mul(100)\n",
    "                     .reset_index()\n",
    "                     .sort_values('amplitude'))\n",
    "\n",
    "\n",
    "sns.displot(df_counts,x='amplitude',kind=\"kde\",\n",
    "            hue='Label',palette='magma')"
   ]
  },
  {
   "cell_type": "markdown",
   "id": "54c082be",
   "metadata": {},
   "source": [
    "     "
   ]
  },
  {
   "cell_type": "markdown",
   "id": "3ce0fb9c",
   "metadata": {},
   "source": [
    "# proximity"
   ]
  },
  {
   "cell_type": "code",
   "execution_count": null,
   "id": "570f22bc",
   "metadata": {},
   "outputs": [],
   "source": [
    "df=pd.read_csv('labeled_data/labeled_fongenae_proximity_data.csv')\n",
    "df.head()"
   ]
  },
  {
   "cell_type": "code",
   "execution_count": null,
   "id": "c6da7bc2",
   "metadata": {},
   "outputs": [],
   "source": [
    "init=np.zeros((2,2))\n",
    "\n",
    "init[0,0]=np.mean(df['proximity'][(df['Label']==1)])\n",
    "init[0,1]=np.mean(df['proximity'][(df['Label']==0)])\n",
    "\n",
    "init[1,0]=np.std(df['proximity'][(df['Label']==1)])\n",
    "init[1,1]=np.std(df['proximity'][(df['Label']==0)])\n",
    "\n",
    "summary_table3 = pd.DataFrame (init, columns = ['sleep','up'],index=['mean','std'])\n",
    "\n",
    "summary_table3"
   ]
  },
  {
   "cell_type": "code",
   "execution_count": null,
   "id": "1bda49e8",
   "metadata": {},
   "outputs": [],
   "source": [
    "summary_table3.iplot(kind='bar')"
   ]
  },
  {
   "cell_type": "markdown",
   "id": "0aef4917",
   "metadata": {},
   "source": [
    "    "
   ]
  },
  {
   "cell_type": "markdown",
   "id": "4176bc31",
   "metadata": {},
   "source": [
    "      "
   ]
  },
  {
   "cell_type": "markdown",
   "id": "bc53d8b0",
   "metadata": {},
   "source": [
    "# screen"
   ]
  },
  {
   "cell_type": "code",
   "execution_count": null,
   "id": "148ac271",
   "metadata": {},
   "outputs": [],
   "source": [
    "df=pd.read_csv('labeled_data/labeled_fongenae_screen_data.csv')\n",
    "df.head()"
   ]
  },
  {
   "cell_type": "code",
   "execution_count": null,
   "id": "8731d26a",
   "metadata": {},
   "outputs": [],
   "source": [
    "init=np.zeros((2,4))\n",
    "\n",
    "n_sleep=sum(df['Label']==1)\n",
    "n_up=sum(df['Label']==0)\n",
    "\n",
    "init[0,0]=(sum((df['Label']==1)&(df['screen_state']=='On')))/(n_sleep)\n",
    "init[0,1]=sum((df['Label']==1)&(df['screen_state']=='Off'))/(n_sleep)\n",
    "init[0,2]=sum((df['Label']==1)&(df['screen_state']=='Locked'))/(n_sleep)\n",
    "init[0,3]=sum((df['Label']==1)&(df['screen_state']=='Unlocked'))/(n_sleep)\n",
    "\n",
    "\n",
    "init[1,0]=(sum((df['Label']==0)&(df['screen_state']=='On')))/(n_up)\n",
    "init[1,1]=sum((df['Label']==0)&(df['screen_state']=='Off'))/(n_up)\n",
    "init[1,2]=sum((df['Label']==0)&(df['screen_state']=='Locked'))/(n_up)\n",
    "init[1,3]=sum((df['Label']==0)&(df['screen_state']=='Unlocked'))/(n_up)\n",
    "\n",
    "\n",
    "summary_table4 = pd.DataFrame (init, columns = ['On', 'Off', 'Locked','Unlocked'],index=['sleep','up'])\n",
    "\n",
    "summary_table4"
   ]
  },
  {
   "cell_type": "code",
   "execution_count": null,
   "id": "4a1ff4d9",
   "metadata": {},
   "outputs": [],
   "source": [
    "summary_table4.iplot(kind='bar')"
   ]
  },
  {
   "cell_type": "markdown",
   "id": "0d058413",
   "metadata": {},
   "source": [
    "       "
   ]
  },
  {
   "cell_type": "markdown",
   "id": "07ac3809",
   "metadata": {},
   "source": [
    "       "
   ]
  },
  {
   "cell_type": "markdown",
   "id": "670e5071",
   "metadata": {},
   "source": [
    "# step"
   ]
  },
  {
   "cell_type": "code",
   "execution_count": null,
   "id": "55258f37",
   "metadata": {},
   "outputs": [],
   "source": [
    "df=pd.read_csv('labeled_data/labeled_svhoecke_step_data.csv')\n",
    "df.head()"
   ]
  },
  {
   "cell_type": "code",
   "execution_count": null,
   "id": "8eb4c59f",
   "metadata": {},
   "outputs": [],
   "source": [
    "df['steps'].unique()"
   ]
  },
  {
   "cell_type": "code",
   "execution_count": null,
   "id": "dd6ee92a",
   "metadata": {},
   "outputs": [],
   "source": [
    "sum(df['steps'])"
   ]
  },
  {
   "cell_type": "code",
   "execution_count": null,
   "id": "3b7d4ad4",
   "metadata": {},
   "outputs": [],
   "source": [
    "sns.distplot(df['steps'])"
   ]
  },
  {
   "cell_type": "markdown",
   "id": "7b508726",
   "metadata": {},
   "source": [
    "     "
   ]
  },
  {
   "cell_type": "markdown",
   "id": "6317514d",
   "metadata": {},
   "source": [
    "        "
   ]
  },
  {
   "cell_type": "markdown",
   "id": "0d7cd09f",
   "metadata": {},
   "source": [
    "# Machine learning model"
   ]
  },
  {
   "cell_type": "raw",
   "id": "8e0b72d8",
   "metadata": {},
   "source": [
    "Considering the point that we have good data while user Jonas was sleeping, \n",
    "It has been choose it for the training the model\n",
    "We assume that each recorded data is one sec\n",
    "We know that Jonas slept for 2086 which apporacimately 43 mins \n",
    "(from 2021-06-14 00:19:19 to 2021-06-14 08:31:19)\n",
    "We consider that each data is for one min\n"
   ]
  },
  {
   "cell_type": "code",
   "execution_count": null,
   "id": "28a9413e",
   "metadata": {},
   "outputs": [],
   "source": [
    "df=pd.read_csv('labeled_data/labeled_Jonas_noise_data.csv')"
   ]
  },
  {
   "cell_type": "code",
   "execution_count": null,
   "id": "63d93ab0",
   "metadata": {},
   "outputs": [],
   "source": [
    "print('Number of sleep data '+str(sum(df['Label']==1)))\n",
    "\n",
    "print('Number of up data '+str(sum(df['Label']==0)))"
   ]
  },
  {
   "cell_type": "code",
   "execution_count": null,
   "id": "391a6d45",
   "metadata": {},
   "outputs": [],
   "source": [
    "sleep_data=df[['frequency','amplitude']].loc[df['Label']==1]\n",
    "sleep_data=sleep_data.to_numpy()\n",
    "\n",
    "up_data=df[['frequency','amplitude']].loc[df['Label']==0]\n",
    "up_data=up_data.to_numpy()"
   ]
  },
  {
   "cell_type": "code",
   "execution_count": null,
   "id": "67db561c",
   "metadata": {},
   "outputs": [],
   "source": [
    "#for avoiding the imbalance data, we added some of random samples from up_data to sleep_data"
   ]
  },
  {
   "cell_type": "code",
   "execution_count": null,
   "id": "82423b0c",
   "metadata": {},
   "outputs": [],
   "source": [
    "type(sleep_data)"
   ]
  },
  {
   "cell_type": "code",
   "execution_count": null,
   "id": "55d64422",
   "metadata": {},
   "outputs": [],
   "source": [
    "sleep_data=sleep_data[:2085, : ] \n",
    "up_data=up_data[:2085, : ] "
   ]
  },
  {
   "cell_type": "code",
   "execution_count": null,
   "id": "7a831678",
   "metadata": {},
   "outputs": [],
   "source": [
    "lenght_segment= 5 #assume i.e. minutes \n",
    "\n",
    "\n",
    "n_segment=int(2085/5)\n",
    "\n",
    "feat_sleep=np.zeros((n_segment,4))\n",
    "feat_up=np.zeros((n_segment, 4))\n",
    "\n",
    "\n",
    "for i in range (n_segment):\n",
    "    p= sleep_data[i*(lenght_segment):(i+1)*(lenght_segment), :]\n",
    "    n= up_data[i*(lenght_segment):(i+1)*(lenght_segment), :]\n",
    "    \n",
    "    \n",
    "    feat_sleep[i,0:2]=np.mean(p, axis=0)\n",
    "    feat_sleep[i, 2:]=np.std(p, axis=0)\n",
    "    \n",
    "    \n",
    "    feat_up[i,0:2]= np.mean(n, axis=0)\n",
    "    feat_up[i,2:]= np.std(n, axis=0)\n",
    "\n",
    "\n",
    "x= np.concatenate([feat_sleep,feat_up], axis=0)\n",
    "y= np.zeros(((n_segment)*2,1))\n",
    "\n",
    "y[:n_segment,0]=1"
   ]
  },
  {
   "cell_type": "code",
   "execution_count": null,
   "id": "5fe3dfbf",
   "metadata": {},
   "outputs": [],
   "source": [
    "y_new= np.reshape(y[:,0], newshape=(y.shape[0],1))\n",
    "x_new= np.concatenate([x,y_new],1)\n",
    "df_feat=pd.DataFrame(data=x_new,columns=['mean_fre','mean_amp','std_fre','std_amp','label'])"
   ]
  },
  {
   "cell_type": "code",
   "execution_count": null,
   "id": "48a83386",
   "metadata": {},
   "outputs": [],
   "source": [
    "df_feat.head()"
   ]
  },
  {
   "cell_type": "code",
   "execution_count": null,
   "id": "474bc804",
   "metadata": {},
   "outputs": [],
   "source": [
    "sns.pairplot(df_feat,hue='label',palette='magma')"
   ]
  },
  {
   "cell_type": "markdown",
   "id": "e7e12cf5",
   "metadata": {},
   "source": [
    "     "
   ]
  },
  {
   "cell_type": "markdown",
   "id": "966644cc",
   "metadata": {},
   "source": [
    "         "
   ]
  },
  {
   "cell_type": "markdown",
   "id": "a95c6e82",
   "metadata": {},
   "source": [
    "# SVM "
   ]
  },
  {
   "cell_type": "raw",
   "id": "a71c8719",
   "metadata": {},
   "source": [
    "# for noise user Jonas"
   ]
  },
  {
   "cell_type": "code",
   "execution_count": null,
   "id": "aec5e118",
   "metadata": {},
   "outputs": [],
   "source": [
    "from sklearn.model_selection import train_test_split\n",
    "from sklearn import svm\n",
    "from sklearn.metrics import confusion_matrix\n",
    "from sklearn.metrics import plot_confusion_matrix\n",
    "import cmocean"
   ]
  },
  {
   "cell_type": "code",
   "execution_count": null,
   "id": "f0ee606d",
   "metadata": {},
   "outputs": [],
   "source": [
    "X_train , X_test , y_train, y_test = train_test_split(x, y, test_size=0.3, random_state=0)\n",
    "clf = svm.SVC()\n",
    "clf.fit(X_train, y_train[:,0])\n",
    "y_pred=clf.predict(X_test)\n",
    "conf=confusion_matrix(y_test, y_pred)\n",
    "conf=conf/np.sum(conf,axis=1)"
   ]
  },
  {
   "cell_type": "code",
   "execution_count": null,
   "id": "aa3cbd0c",
   "metadata": {},
   "outputs": [],
   "source": [
    "plot_confusion_matrix(clf, X_test, y_test[:,0],cmap='GnBu',normalize='true')  \n",
    "plt.show()  "
   ]
  },
  {
   "cell_type": "code",
   "execution_count": null,
   "id": "98f3acbe",
   "metadata": {},
   "outputs": [],
   "source": [
    "from sklearn.metrics import classification_report\n",
    "y_actu = pd.Series(np.reshape(y_test,newshape=(y_test.shape[0],)), name='Actual')\n",
    "y_pred = pd.Series(y_pred, name='Predicted')\n",
    "target_names=['sleep','up']\n",
    "print(classification_report(y_actu, y_pred, target_names=target_names))"
   ]
  },
  {
   "cell_type": "code",
   "execution_count": null,
   "id": "386bf980",
   "metadata": {},
   "outputs": [],
   "source": [
    "y_test=np.reshape(y_test,newshape=(y_test.shape[0],))\n",
    "y_test.shape"
   ]
  },
  {
   "cell_type": "markdown",
   "id": "68ccf26f",
   "metadata": {},
   "source": [
    "     "
   ]
  },
  {
   "cell_type": "markdown",
   "id": "17103a0d",
   "metadata": {},
   "source": [
    "# Subject wise prediction"
   ]
  },
  {
   "cell_type": "code",
   "execution_count": null,
   "id": "521d0c05",
   "metadata": {},
   "outputs": [],
   "source": [
    "df=pd.read_csv('labeled_data/labeled_Jessica_noise_data.csv')\n",
    "df.head()"
   ]
  },
  {
   "cell_type": "code",
   "execution_count": null,
   "id": "cad5a595",
   "metadata": {},
   "outputs": [],
   "source": [
    "print('Number of sleep data '+str(sum(df['Label']==1)))\n",
    "\n",
    "print('Number of up data '+str(sum(df['Label']==0)))"
   ]
  },
  {
   "cell_type": "code",
   "execution_count": null,
   "id": "4d014384",
   "metadata": {},
   "outputs": [],
   "source": [
    "sleep_data=df[['frequency','amplitude',]].loc[(df['Label']==1)]\n",
    "sleep_data=sleep_data.to_numpy()\n",
    "\n",
    "up_data=df[['frequency','amplitude',]].loc[(df['Label']==0)]\n",
    "up_data=up_data.to_numpy()"
   ]
  },
  {
   "cell_type": "code",
   "execution_count": null,
   "id": "9c129be1",
   "metadata": {},
   "outputs": [],
   "source": [
    "sleep_data=sleep_data[:2085, : ] \n",
    "up_data=up_data[:2085, : ] \n"
   ]
  },
  {
   "cell_type": "code",
   "execution_count": null,
   "id": "4b514a1c",
   "metadata": {},
   "outputs": [],
   "source": [
    "lenght_segment= 5 #mins\n",
    "\n",
    "n_segment=int(2085/5)\n",
    "feat_sleep=np.zeros((n_segment,4))\n",
    "feat_up=np.zeros((n_segment,4))\n",
    "\n",
    "\n",
    "for i in range (n_segment):\n",
    "    \n",
    "    p=sleep_data[i*lenght_segment:(i+1)*lenght_segment, : ]\n",
    "    n=up_data[i*lenght_segment:(i+1)*lenght_segment, : ]\n",
    "    \n",
    "    feat_sleep[i,0:2]= np.mean(p, axis=0)\n",
    "    feat_sleep[i,2:]= np.std(p, axis=0)\n",
    "    \n",
    "    feat_up[i,0:2]= np.mean(n, axis=0)\n",
    "    feat_up[i,2:]= np.std(n, axis=0)\n",
    "    \n",
    "\n",
    "x1=np.concatenate([feat_sleep,feat_up], axis=0)\n",
    "y=np.zeros((n_segment*2,1))\n",
    "y[:n_segment,0]=1\n"
   ]
  },
  {
   "cell_type": "code",
   "execution_count": null,
   "id": "079fba27",
   "metadata": {},
   "outputs": [],
   "source": [
    "plot_confusion_matrix(clf, x, y,cmap='GnBu',normalize='true',labels=['sleep','up'])  \n",
    "plt.show()  "
   ]
  },
  {
   "cell_type": "code",
   "execution_count": null,
   "id": "fd557171",
   "metadata": {},
   "outputs": [],
   "source": [
    "y_actu = pd.Series(ytrue, name='Actual')\n",
    "y_pred = pd.Series(y_pred, name='Predicted')\n",
    "target_names=['sleep','up']\n",
    "print(classification_report(y_actu, y_pred, target_names=target_names))"
   ]
  },
  {
   "cell_type": "markdown",
   "id": "5e6c70b6",
   "metadata": {},
   "source": [
    "# Light- Machine learning model"
   ]
  },
  {
   "cell_type": "code",
   "execution_count": null,
   "id": "aeb89789",
   "metadata": {},
   "outputs": [],
   "source": [
    "dff=pd.read_csv('labeled_data/labeled_fongenae_light_data.csv')\n",
    "dfj=pd.read_csv('labeled_data/labeled_jonas_light_data.csv')\n",
    "df_light=pd.concat([dff,dfj])"
   ]
  },
  {
   "cell_type": "code",
   "execution_count": null,
   "id": "3225452b",
   "metadata": {},
   "outputs": [],
   "source": [
    "df_light.head()"
   ]
  },
  {
   "cell_type": "code",
   "execution_count": null,
   "id": "1688c2bb",
   "metadata": {},
   "outputs": [],
   "source": [
    "print('Number of sleep data '+str(sum(df_light['Label']==1)))\n",
    "\n",
    "print('Number of up data '+str(sum(df_light['Label']==0)))"
   ]
  },
  {
   "cell_type": "code",
   "execution_count": null,
   "id": "c9b38fc3",
   "metadata": {},
   "outputs": [],
   "source": [
    "sleep_data=df_light[['lux']].loc[df_light['Label']==1]\n",
    "sleep_data=sleep_data.to_numpy()\n",
    "\n",
    "up_data=df_light[['lux']].loc[df_light['Label']==0]\n",
    "up_data=up_data.to_numpy()"
   ]
  },
  {
   "cell_type": "code",
   "execution_count": null,
   "id": "856c6c97",
   "metadata": {},
   "outputs": [],
   "source": [
    "sleep_data=sleep_data[:198320, : ] \n",
    "up_data=up_data[:198320, : ] "
   ]
  },
  {
   "cell_type": "code",
   "execution_count": null,
   "id": "df583a73",
   "metadata": {},
   "outputs": [],
   "source": [
    "lenght_segment= 5 #assume i.e. minutes \n",
    "\n",
    "\n",
    "n_segment=int(198320/5)\n",
    "\n",
    "feat_sleep=np.zeros((n_segment,2))\n",
    "feat_up=np.zeros((n_segment, 2))\n",
    "\n",
    "\n",
    "for i in range (n_segment):\n",
    "    p= sleep_data[i*(lenght_segment):(i+1)*(lenght_segment), :]\n",
    "    n= up_data[i*(lenght_segment):(i+1)*(lenght_segment), :]\n",
    "    \n",
    "    \n",
    "    feat_sleep[i,0:1]=np.mean(p, axis=0)\n",
    "    feat_sleep[i, 1:]=np.std(p, axis=0)\n",
    "    \n",
    "    \n",
    "    feat_up[i,0:1]= np.mean(n, axis=0)\n",
    "    feat_up[i,1:]= np.std(n, axis=0)\n",
    "\n",
    "\n",
    "x= np.concatenate([feat_sleep,feat_up], axis=0)\n",
    "y= np.zeros(((n_segment)*2,1))\n",
    "\n",
    "y[:n_segment,0]=1"
   ]
  },
  {
   "cell_type": "code",
   "execution_count": null,
   "id": "31c8db73",
   "metadata": {},
   "outputs": [],
   "source": [
    "y_new= np.reshape(y[:,0], newshape=(y.shape[0],1))\n",
    "x_new= np.concatenate([x,y_new],1)\n",
    "df_feat=pd.DataFrame(data=x_new,columns=['mean_lux','std_lux','label'])"
   ]
  },
  {
   "cell_type": "code",
   "execution_count": null,
   "id": "ffc1e1f2",
   "metadata": {},
   "outputs": [],
   "source": [
    "df_feat"
   ]
  },
  {
   "cell_type": "code",
   "execution_count": null,
   "id": "83e1a258",
   "metadata": {},
   "outputs": [],
   "source": [
    "198320/5"
   ]
  },
  {
   "cell_type": "code",
   "execution_count": null,
   "id": "c86044f8",
   "metadata": {},
   "outputs": [],
   "source": [
    "sns.pairplot(df_feat,hue='label',palette='magma')"
   ]
  },
  {
   "cell_type": "code",
   "execution_count": null,
   "id": "18b4de5a",
   "metadata": {},
   "outputs": [],
   "source": [
    "X_train , X_test , y_train, y_test = train_test_split(x, y, test_size=0.3, random_state=0)\n",
    "clf = svm.SVC()\n",
    "clf.fit(X_train, y_train[:,0])\n",
    "y_pred=clf.predict(X_test)\n",
    "conf=confusion_matrix(y_test, y_pred)\n",
    "conf=conf/np.sum(conf,axis=1)"
   ]
  },
  {
   "cell_type": "code",
   "execution_count": null,
   "id": "1f2fe4f9",
   "metadata": {},
   "outputs": [],
   "source": [
    "plot_confusion_matrix(clf, X_test, y_test[:,0],cmap='GnBu',normalize='true')  \n",
    "plt.show()"
   ]
  },
  {
   "cell_type": "markdown",
   "id": "5292d5d3",
   "metadata": {},
   "source": [
    "# Subject-wise light"
   ]
  },
  {
   "cell_type": "code",
   "execution_count": null,
   "id": "c09a7d2b",
   "metadata": {},
   "outputs": [],
   "source": [
    "df=pd.read_csv('labeled_data/labeled_svhoecke_light_data.csv')\n",
    "df.head()"
   ]
  },
  {
   "cell_type": "code",
   "execution_count": null,
   "id": "51659ddb",
   "metadata": {},
   "outputs": [],
   "source": [
    "print('Number of sleep data '+str(sum(df['Label']==1)))\n",
    "\n",
    "print('Number of up data '+str(sum(df['Label']==0)))"
   ]
  },
  {
   "cell_type": "code",
   "execution_count": null,
   "id": "d5f41548",
   "metadata": {},
   "outputs": [],
   "source": [
    "sleep_data=df[['lux']].loc[(df['Label']==1)]\n",
    "sleep_data=sleep_data.to_numpy()\n",
    "\n",
    "up_data=df[['lux']].loc[(df['Label']==0)]\n",
    "up_data=up_data.to_numpy()"
   ]
  },
  {
   "cell_type": "code",
   "execution_count": null,
   "id": "a0218d66",
   "metadata": {},
   "outputs": [],
   "source": [
    "sleep_data=sleep_data[:49020, : ] \n",
    "up_data=up_data[:49020, : ] "
   ]
  },
  {
   "cell_type": "code",
   "execution_count": null,
   "id": "df87257e",
   "metadata": {},
   "outputs": [],
   "source": [
    "lenght_segment= 5 #assume i.e. minutes \n",
    "\n",
    "\n",
    "n_segment=int(49020/5)\n",
    "\n",
    "feat_sleep=np.zeros((n_segment,2))\n",
    "feat_up=np.zeros((n_segment, 2))\n",
    "\n",
    "\n",
    "for i in range (n_segment):\n",
    "    p= sleep_data[i*(lenght_segment):(i+1)*(lenght_segment), :]\n",
    "    n= up_data[i*(lenght_segment):(i+1)*(lenght_segment), :]\n",
    "    \n",
    "    \n",
    "    feat_sleep[i,0:1]=np.mean(p, axis=0)\n",
    "    feat_sleep[i, 1:]=np.std(p, axis=0)\n",
    "    \n",
    "    \n",
    "    feat_up[i,0:1]= np.mean(n, axis=0)\n",
    "    feat_up[i,1:]= np.std(n, axis=0)\n",
    "\n",
    "\n",
    "x= np.concatenate([feat_sleep,feat_up], axis=0)\n",
    "y= np.zeros(((n_segment)*2,1))\n",
    "\n",
    "y[:n_segment,0]=1"
   ]
  },
  {
   "cell_type": "code",
   "execution_count": null,
   "id": "d439dfab",
   "metadata": {},
   "outputs": [],
   "source": [
    "plot_confusion_matrix(clf, x, y,cmap='GnBu',normalize='true')  \n",
    "plt.show()  "
   ]
  },
  {
   "cell_type": "markdown",
   "id": "45080ec8",
   "metadata": {},
   "source": [
    "# screen- Machine learning model"
   ]
  },
  {
   "cell_type": "code",
   "execution_count": null,
   "id": "db0cea0c",
   "metadata": {},
   "outputs": [],
   "source": [
    "df_screen=pd.read_csv('labeled_data/labeled_fongenae_screen_data.csv')\n",
    "\n",
    "df_screen.head()"
   ]
  },
  {
   "cell_type": "code",
   "execution_count": null,
   "id": "044972e5",
   "metadata": {},
   "outputs": [],
   "source": [
    "print('Number of sleep data '+str(sum(df_screen['Label']==1)))\n",
    "\n",
    "print('Number of up data '+str(sum(df_screen['Label']==0)))"
   ]
  },
  {
   "cell_type": "code",
   "execution_count": null,
   "id": "26af8473",
   "metadata": {},
   "outputs": [],
   "source": [
    "a=df_screen.loc[df_screen['screen_state']=='Unlocked']\n"
   ]
  },
  {
   "cell_type": "code",
   "execution_count": null,
   "id": "338f5d68",
   "metadata": {},
   "outputs": [],
   "source": [
    "sleep_data=df_screen.loc[df_screen['screen_state']=='Unlocked'].loc[df_screen['Label']==1]\n",
    "sleep_data=sleep_data.to_numpy()\n",
    "\n",
    "up_data=df_screen.loc[df_screen['screen_state']=='Unlocked'].loc[df_screen['Label']==0]\n",
    "up_data=up_data.to_numpy()"
   ]
  },
  {
   "cell_type": "code",
   "execution_count": null,
   "id": "cf7e899f",
   "metadata": {},
   "outputs": [],
   "source": [
    "sleep_data=sleep_data[:90, : ] \n",
    "up_data=up_data[:90, : ] "
   ]
  },
  {
   "cell_type": "code",
   "execution_count": null,
   "id": "8c13818a",
   "metadata": {},
   "outputs": [],
   "source": [
    "lenght_segment= 5 #assume i.e. minutes \n",
    "\n",
    "\n",
    "n_segment=int(90/5)\n",
    "\n",
    "feat_sleep=np.zeros((n_segment,2))\n",
    "feat_up=np.zeros((n_segment, 2))\n",
    "\n",
    "\n",
    "for i in range (n_segment):\n",
    "    p= sleep_data[i*(lenght_segment):(i+1)*(lenght_segment), :]\n",
    "    n= up_data[i*(lenght_segment):(i+1)*(lenght_segment), :]\n",
    "    \n",
    "    \n",
    "    feat_sleep[i,0:1]=np.mean(p, axis=0)\n",
    "    feat_sleep[i, 1:]=np.std(p, axis=0)\n",
    "    \n",
    "    \n",
    "    feat_up[i,0:1]= np.mean(n, axis=0)\n",
    "    feat_up[i,1:]= np.std(n, axis=0)\n",
    "\n",
    "\n",
    "x= np.concatenate([feat_sleep,feat_up], axis=0)\n",
    "y= np.zeros(((n_segment)*2,1))\n",
    "\n",
    "y[:n_segment,0]=1"
   ]
  },
  {
   "cell_type": "code",
   "execution_count": null,
   "id": "cfb7e4b1",
   "metadata": {},
   "outputs": [],
   "source": []
  }
 ],
 "metadata": {
  "kernelspec": {
   "display_name": "Python 3",
   "language": "python",
   "name": "python3"
  },
  "language_info": {
   "codemirror_mode": {
    "name": "ipython",
    "version": 3
   },
   "file_extension": ".py",
   "mimetype": "text/x-python",
   "name": "python",
   "nbconvert_exporter": "python",
   "pygments_lexer": "ipython3",
   "version": "3.9.7"
  }
 },
 "nbformat": 4,
 "nbformat_minor": 5
}
